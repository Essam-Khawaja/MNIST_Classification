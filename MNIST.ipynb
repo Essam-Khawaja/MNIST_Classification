{
 "cells": [
  {
   "cell_type": "markdown",
   "id": "bac56124",
   "metadata": {},
   "source": [
    "# Deep Neural Network for MNIST Classification\n",
    "\n",
    "In this project, I am to essentially build the 'Hello World!' of Deep Learning. I hope to apply all the knowledge I have gained in my courses to build my very first deep learning algorithm.\n",
    "\n",
    "The dataset, MNIST, is for Handwritten Digit Recognition. This project aims to classify each handwritten digit to the actual digit. The goal is to build a deep neural network."
   ]
  },
  {
   "cell_type": "code",
   "execution_count": null,
   "id": "995b4194",
   "metadata": {},
   "outputs": [],
   "source": []
  }
 ],
 "metadata": {
  "language_info": {
   "name": "python"
  }
 },
 "nbformat": 4,
 "nbformat_minor": 5
}
